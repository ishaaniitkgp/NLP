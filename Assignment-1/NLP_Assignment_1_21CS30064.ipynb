{
 "cells": [
  {
   "cell_type": "markdown",
   "metadata": {},
   "source": [
    "##### Ishaan Sinha\n",
    "##### Roll number : 21CS30064"
   ]
  },
  {
   "cell_type": "markdown",
   "metadata": {},
   "source": [
    "# TASK - 1"
   ]
  },
  {
   "cell_type": "code",
   "execution_count": 25,
   "metadata": {},
   "outputs": [
    {
     "name": "stderr",
     "output_type": "stream",
     "text": [
      "[nltk_data] Downloading package treebank to\n",
      "[nltk_data]     C:\\Users\\ishaa\\AppData\\Roaming\\nltk_data...\n",
      "[nltk_data]   Package treebank is already up-to-date!\n",
      "[nltk_data] Downloading package punkt to\n",
      "[nltk_data]     C:\\Users\\ishaa\\AppData\\Roaming\\nltk_data...\n",
      "[nltk_data]   Package punkt is already up-to-date!\n",
      "[nltk_data] Downloading package punkt_tab to\n",
      "[nltk_data]     C:\\Users\\ishaa\\AppData\\Roaming\\nltk_data...\n",
      "[nltk_data]   Package punkt_tab is already up-to-date!\n",
      "[nltk_data] Downloading package averaged_perceptron_tagger to\n",
      "[nltk_data]     C:\\Users\\ishaa\\AppData\\Roaming\\nltk_data...\n",
      "[nltk_data]   Package averaged_perceptron_tagger is already up-to-\n",
      "[nltk_data]       date!\n"
     ]
    },
    {
     "data": {
      "text/plain": [
       "True"
      ]
     },
     "execution_count": 25,
     "metadata": {},
     "output_type": "execute_result"
    }
   ],
   "source": [
    "# Downloading Corpus from NLTK\n",
    "\n",
    "import nltk\n",
    "from nltk.corpus import treebank\n",
    "from nltk.tokenize import sent_tokenize, word_tokenize\n",
    "\n",
    "# Download the required dataset\n",
    "nltk.download('treebank')\n",
    "\n",
    "# Using nltk tools\n",
    "nltk.download('punkt')\n",
    "nltk.download('punkt_tab')\n",
    "nltk.download('averaged_perceptron_tagger')"
   ]
  },
  {
   "cell_type": "code",
   "execution_count": 26,
   "metadata": {},
   "outputs": [],
   "source": [
    "# Loading the Treebank Corpus for training purposes\n",
    "Sent_tb = treebank.tagged_sents()"
   ]
  },
  {
   "cell_type": "code",
   "execution_count": 27,
   "metadata": {},
   "outputs": [
    {
     "name": "stdout",
     "output_type": "stream",
     "text": [
      "Sentence Tokens:  ['I am Ishaan Sinha.', 'I am a student of Computer Science Department.']\n",
      "\n",
      "Word Tokens:  ['I', 'am', 'Ishaan', 'Sinha', '.', 'I', 'am', 'a', 'student', 'of', 'Computer', 'Science', 'Department', '.']\n",
      "\n"
     ]
    }
   ],
   "source": [
    "sent = 'I am Ishaan Sinha. I am a student of Computer Science Department.'\n",
    "\n",
    "tokens = sent_tokenize(sent)\n",
    "print('Sentence Tokens: ',tokens)\n",
    "print()\n",
    "\n",
    "tokens = word_tokenize(sent)\n",
    "print('Word Tokens: ',tokens)\n",
    "print()\n",
    "\n",
    "# Not using this function in the assignment, just printing the tags\n",
    "# tagged = nltk.pos_tag(tokens)\n",
    "# print('POS Tags: ',tagged)"
   ]
  },
  {
   "cell_type": "code",
   "execution_count": 28,
   "metadata": {},
   "outputs": [
    {
     "name": "stdout",
     "output_type": "stream",
     "text": [
      "Unique Tags:  {'CD', 'WDT', 'EX', 'NNPS', ':', 'NNP', 'VBZ', 'VBD', 'CC', 'RB', 'RP', 'TO', 'NN', 'SYM', 'VBP', 'PRP$', 'JJR', 'JJS', 'PDT', 'VBN', 'WRB', 'JJ', 'NNS', '-LRB-', '``', 'POS', '#', 'RBS', 'MD', 'WP$', 'PRP', '.', '$', ',', 'VBG', 'IN', 'RBR', 'LS', '-RRB-', 'UH', 'VB', '-NONE-', 'WP', 'FW', \"''\", 'DT'}\n",
      "\n"
     ]
    }
   ],
   "source": [
    "# Extracting all the tags from the Treebank Corpus and storing them in a list\n",
    "Tags =[tag for sentence in Sent_tb for word, tag in sentence]\n",
    "\n",
    "# Identifying unique tags\n",
    "Unique_Tags = set(Tags)\n",
    "\n",
    "# Printing the unique tags\n",
    "print('Unique Tags: ',Unique_Tags)\n",
    "print()"
   ]
  },
  {
   "cell_type": "code",
   "execution_count": 29,
   "metadata": {},
   "outputs": [],
   "source": [
    "# # Creating Transmission Matrix\n",
    "\n",
    "# from collections import defaultdict\n",
    "\n",
    "# transition_matrix = defaultdict(lambda: defaultdict(int))\n",
    "\n",
    "# # Counting transition frequencies\n",
    "# for sentence in Sent_tb:\n",
    "#     for i, (word, tag1) in enumerate(sentence[:-1]):\n",
    "#         tag2 = sentence[i + 1][1]\n",
    "#         transition_matrix[tag1][tag2] += 1\n",
    "\n",
    "# # Normalizing transition probabilities\n",
    "# for tag1 in transition_matrix:\n",
    "#     total_transitions = sum(transition_matrix[tag1].values())\n",
    "#     if total_transitions > 0:\n",
    "#         for tag2 in transition_matrix[tag1]:\n",
    "#             transition_matrix[tag1][tag2] /= total_transitions"
   ]
  },
  {
   "cell_type": "code",
   "execution_count": 30,
   "metadata": {},
   "outputs": [],
   "source": [
    "# from collections import defaultdict\n",
    "\n",
    "# # Function to count emissions\n",
    "# def count_emissions(corpus):\n",
    "#     # Using defaultdict to simplify the dictionary handling\n",
    "#     emission_counts = defaultdict(lambda: defaultdict(int))\n",
    "#     for word, tag in corpus:\n",
    "#         emission_counts[tag][word] += 1\n",
    "#     return emission_counts\n",
    "\n",
    "# # Function to normalize emissions\n",
    "# def normalize_emissions(emission_counts):\n",
    "#     emission_probabilities = {}\n",
    "#     for tag, words in emission_counts.items():\n",
    "#         total_emissions = sum(words.values())\n",
    "#         emission_probabilities[tag] = {word: count / total_emissions for word, count in words.items()}\n",
    "#     return emission_probabilities\n",
    "\n",
    "# # Count emissions using the treebank corpus\n",
    "# emission_counts = count_emissions(treebank.tagged_words())\n",
    "\n",
    "# # Normalize the counts to get probabilities\n",
    "# emission_matrix = normalize_emissions(emission_counts)"
   ]
  },
  {
   "cell_type": "code",
   "execution_count": 31,
   "metadata": {},
   "outputs": [],
   "source": [
    "# Creating Transmission Matrix\n",
    "\n",
    "from collections import defaultdict\n",
    "\n",
    "# Initialize transition matrix with defaultdict\n",
    "transition_matrix = defaultdict(lambda: defaultdict(int))\n",
    "\n",
    "# Count transition frequencies\n",
    "for sentence in Sent_tb:\n",
    "    for i, (word, tag1) in enumerate(sentence[:-1]):\n",
    "        tag2 = sentence[i + 1][1]\n",
    "        transition_matrix[tag1][tag2] += 1\n",
    "\n",
    "# Get unique tags\n",
    "Unique_Tags = set(tag for sentence in Sent_tb for _, tag in sentence)\n",
    "\n",
    "# Apply Laplace smoothing and normalize transition probabilities\n",
    "for tag1 in transition_matrix:\n",
    "    total_transitions = sum(transition_matrix[tag1].values()) + len(Unique_Tags)  # Adding the number of tags for smoothing\n",
    "    for tag2 in Unique_Tags:\n",
    "        transition_matrix[tag1][tag2] = (transition_matrix[tag1][tag2] + 1) / total_transitions  # Adding 1 for smoothing"
   ]
  },
  {
   "cell_type": "code",
   "execution_count": 32,
   "metadata": {},
   "outputs": [],
   "source": [
    "# Creating Emission Matrix and default probabilities\n",
    "\n",
    "from collections import defaultdict\n",
    "\n",
    "# Function to count emissions\n",
    "def count_emissions(corpus):\n",
    "    emission_counts = defaultdict(lambda: defaultdict(int))\n",
    "    for word, tag in corpus:\n",
    "        emission_counts[tag][word] += 1\n",
    "    return emission_counts\n",
    "\n",
    "# Function to normalize emissions with Laplace smoothing\n",
    "def normalize_emissions_with_laplace(emission_counts, vocabulary):\n",
    "    emission_probabilities = {}\n",
    "    default_probabilities = {}\n",
    "    vocabulary_size = len(vocabulary)\n",
    "    \n",
    "    for tag, words in emission_counts.items():\n",
    "        total_emissions = sum(words.values()) + vocabulary_size  # Adding vocabulary size for smoothing\n",
    "        emission_probabilities[tag] = {\n",
    "            word: (count + 1) / total_emissions  # Adding 1 for smoothing\n",
    "            for word, count in words.items()\n",
    "        }\n",
    "        # Default smoothed probability for unseen word-tag pairs\n",
    "        default_probabilities[tag] = 1 / total_emissions\n",
    "        \n",
    "    return emission_probabilities, default_probabilities\n",
    "\n",
    "# Extract vocabulary from the corpus\n",
    "vocabulary = set(word for word, tag in treebank.tagged_words())\n",
    "\n",
    "# Count emissions using the treebank corpus\n",
    "emission_counts = count_emissions(treebank.tagged_words())\n",
    "\n",
    "# Normalize the counts to get probabilities with Laplace smoothing and default probabilities\n",
    "emission_matrix, default_probabilities = normalize_emissions_with_laplace(emission_counts, vocabulary)\n",
    "\n",
    "# Function to get emission probability with default handling\n",
    "def get_emission_probability(tag, word):\n",
    "    if tag in emission_matrix and word in emission_matrix[tag]:\n",
    "        return emission_matrix[tag][word]\n",
    "    elif tag in default_probabilities:\n",
    "        return default_probabilities[tag]\n",
    "    else:\n",
    "        return 0  # In case the tag is completely missing, which should rarely happen"
   ]
  },
  {
   "cell_type": "code",
   "execution_count": 34,
   "metadata": {},
   "outputs": [],
   "source": [
    "# Building the start probability\n",
    "\n",
    "Tags = [tag for sent in Sent_tb for word, tag in sent]\n",
    "Unique_Tags = sorted(set(Tags))\n",
    "\n",
    "# Calculate tag frequencies\n",
    "tag_freqs = nltk.FreqDist(Tags)\n",
    "\n",
    "# Calculate start probabilities\n",
    "total_num = len(Sent_tb)\n",
    "start_probs = {}\n",
    "for tag in Unique_Tags:\n",
    "    start_probs[tag] = tag_freqs[tag] / total_num"
   ]
  },
  {
   "cell_type": "code",
   "execution_count": 35,
   "metadata": {},
   "outputs": [],
   "source": [
    "# Viterbi Algorithm\n",
    "\n",
    "def viterbi_algorithm(sentence, states, start_prob, transition_prob):\n",
    "    # Tokenize the sentence into words\n",
    "    tokens = sentence.split()\n",
    "    n_tokens = len(tokens)\n",
    "    n_states = len(states)\n",
    "\n",
    "    # Initialize Viterbi and backpointer matrices\n",
    "    viterbi = [[0] * n_states for _ in range(n_tokens)]\n",
    "    backpointer = [[-1] * n_states for _ in range(n_tokens)]\n",
    "\n",
    "    # Initialize with start probabilities and first emission probabilities\n",
    "    for i, state in enumerate(states):\n",
    "        viterbi[0][i] = start_prob[state] * get_emission_probability(state, tokens[0])\n",
    "        # viterbi[0][i] = start_prob[state] * emission_matrix[state].get(tokens[0], 0.0001)\n",
    "        backpointer[0][i] = -1\n",
    "\n",
    "    # Recursion: Fill Viterbi and backpointer matrices\n",
    "    for t in range(1, n_tokens):\n",
    "        for j, state in enumerate(states):\n",
    "            max_prob = float('-inf')\n",
    "            best_state = -1\n",
    "\n",
    "            for i, prev_state in enumerate(states):\n",
    "                trans_prob = transition_prob[prev_state].get(state, 0)\n",
    "                emis_prob = get_emission_probability(state, tokens[t])\n",
    "                # emis_prob = emission_matrix[state].get(tokens[t], 0.0001)\n",
    "                prob = viterbi[t - 1][i] * trans_prob * emis_prob\n",
    "\n",
    "                if prob > max_prob:\n",
    "                    max_prob = prob\n",
    "                    best_state = i\n",
    "\n",
    "            viterbi[t][j] = max_prob\n",
    "            backpointer[t][j] = best_state\n",
    "\n",
    "    # Termination: Find the best path\n",
    "    final_probs = viterbi[-1]\n",
    "    best_final_prob = max(final_probs)\n",
    "    best_final_state = final_probs.index(best_final_prob)\n",
    "\n",
    "    # Backtrack to get the best path\n",
    "    best_path = [best_final_state]\n",
    "    for t in range(n_tokens - 1, 0, -1):\n",
    "        best_path.append(backpointer[t][best_path[-1]])\n",
    "\n",
    "    best_path.reverse()\n",
    "\n",
    "    # Map state indices back to state names\n",
    "    best_path_tags = [list(states)[index] for index in best_path]\n",
    "\n",
    "    return best_path_tags, best_final_prob\n"
   ]
  },
  {
   "cell_type": "markdown",
   "metadata": {},
   "source": [
    "# TASK - 2"
   ]
  },
  {
   "cell_type": "code",
   "execution_count": 38,
   "metadata": {},
   "outputs": [],
   "source": [
    "from datasets import load_dataset\n",
    "ds = load_dataset(\"dair-ai/emotion\",\"split\")"
   ]
  },
  {
   "cell_type": "code",
   "execution_count": 39,
   "metadata": {},
   "outputs": [
    {
     "data": {
      "text/plain": [
       "array(['aa', 'aaaaaaand', 'aaaaand', ..., 'zum', 'zumba', 'zz'],\n",
       "      dtype=object)"
      ]
     },
     "execution_count": 39,
     "metadata": {},
     "output_type": "execute_result"
    }
   ],
   "source": [
    "from sklearn.feature_extraction.text import TfidfVectorizer\n",
    "import pandas as pd\n",
    "df_train = pd.DataFrame(ds['train'])\n",
    "df_test = pd.DataFrame(ds['test'])\n",
    "vectorizer = TfidfVectorizer()\n",
    "x_train = vectorizer.fit_transform(df_train['text'])\n",
    "x_test = vectorizer.transform(df_test['text'])\n",
    "vectorizer.get_feature_names_out()"
   ]
  },
  {
   "cell_type": "code",
   "execution_count": 40,
   "metadata": {},
   "outputs": [
    {
     "name": "stdout",
     "output_type": "stream",
     "text": [
      "              precision    recall  f1-score   support\n",
      "\n",
      "           0       0.93      0.92      0.93       581\n",
      "           1       0.88      0.95      0.91       695\n",
      "           2       0.82      0.67      0.74       159\n",
      "           3       0.89      0.88      0.88       275\n",
      "           4       0.85      0.85      0.85       224\n",
      "           5       0.76      0.56      0.64        66\n",
      "\n",
      "    accuracy                           0.89      2000\n",
      "   macro avg       0.85      0.81      0.83      2000\n",
      "weighted avg       0.88      0.89      0.88      2000\n",
      "\n",
      "Accuracy: 0.8855\n"
     ]
    }
   ],
   "source": [
    "from sklearn.naive_bayes import MultinomialNB\n",
    "from sklearn.svm import SVC\n",
    "from sklearn.metrics import classification_report\n",
    "from sklearn.metrics import accuracy_score\n",
    "\n",
    "# Train the classifier\n",
    "classifier = SVC(kernel='linear')  # or MultinomialNB()\n",
    "classifier.fit(x_train, ds['train']['label'])\n",
    "\n",
    "# Predict the labels for the test set\n",
    "y_pred = classifier.predict(x_test)\n",
    "\n",
    "# Evaluate the classifier\n",
    "print(classification_report(ds['test']['label'], y_pred))\n",
    "print(\"Accuracy:\", accuracy_score(ds['test']['label'], y_pred))"
   ]
  },
  {
   "cell_type": "code",
   "execution_count": 41,
   "metadata": {},
   "outputs": [
    {
     "data": {
      "image/png": "[encoded data removed]",
      "text/plain": [
       "<Figure size 1000x800 with 2 Axes>"
      ]
     },
     "metadata": {},
     "output_type": "display_data"
    }
   ],
   "source": [
    "# Printing the Confusion Matrix\n",
    "from sklearn.metrics import confusion_matrix\n",
    "import seaborn as sns\n",
    "import matplotlib.pyplot as plt\n",
    "\n",
    "cm = confusion_matrix(df_test['label'], y_pred)\n",
    "plt.figure(figsize=(10, 8))\n",
    "sns.heatmap(cm, annot=True, fmt='d', cmap='Blues', xticklabels=ds['train'].features['label'].names, yticklabels=ds['train'].features['label'].names)\n",
    "plt.xlabel('Predicted')\n",
    "plt.ylabel('Actual')\n",
    "plt.title('Confusion Matrix')\n",
    "plt.show()"
   ]
  },
  {
   "cell_type": "markdown",
   "metadata": {},
   "source": [
    "# Task - 3"
   ]
  },
  {
   "cell_type": "code",
   "execution_count": 42,
   "metadata": {},
   "outputs": [],
   "source": [
    "def concatenate_with_pos_tags(sentences):\n",
    "    concatenated_sentences = []\n",
    "    for sentence in sentences:\n",
    "        pos_tags, probab = viterbi_algorithm(sentence, Unique_Tags, start_probs, transition_matrix)  # Use the Viterbi algorithm to get POS tags\n",
    "        Tokens_generated = word_tokenize(sentence)\n",
    "        concatenated_sentence = ' '.join([f\"{word}_{tag}\" for word, tag in zip(Tokens_generated, pos_tags)])\n",
    "        concatenated_sentences.append(concatenated_sentence)\n",
    "    return concatenated_sentences\n",
    "\n",
    "# Apply Viterbi and concatenate tags with words for training and test data\n",
    "df_train['text'] = concatenate_with_pos_tags(df_train['text'])\n",
    "df_test['text'] = concatenate_with_pos_tags(df_test['text'])"
   ]
  },
  {
   "cell_type": "code",
   "execution_count": 43,
   "metadata": {},
   "outputs": [],
   "source": [
    "# Vectorize the concatenated text\n",
    "vectorizer = TfidfVectorizer()\n",
    "x_train = vectorizer.fit_transform(df_train['text'])\n",
    "x_test = vectorizer.transform(df_test['text'])"
   ]
  },
  {
   "cell_type": "code",
   "execution_count": 44,
   "metadata": {},
   "outputs": [
    {
     "name": "stdout",
     "output_type": "stream",
     "text": [
      "              precision    recall  f1-score   support\n",
      "\n",
      "           0       0.73      0.83      0.78       581\n",
      "           1       0.71      0.90      0.79       695\n",
      "           2       0.77      0.43      0.55       159\n",
      "           3       0.88      0.56      0.68       275\n",
      "           4       0.83      0.62      0.71       224\n",
      "           5       0.81      0.33      0.47        66\n",
      "\n",
      "    accuracy                           0.74      2000\n",
      "   macro avg       0.79      0.61      0.66      2000\n",
      "weighted avg       0.76      0.74      0.73      2000\n",
      "\n",
      "Accuracy: 0.7445\n"
     ]
    }
   ],
   "source": [
    "# Choose a classifier (SVM or Naive Bayes)\n",
    "classifier = SVC(kernel='linear')  # Or MultinomialNB()\n",
    "classifier.fit(x_train, df_train['label'])\n",
    "\n",
    "# Predict the labels for the test set\n",
    "y_pred = classifier.predict(x_test)\n",
    "\n",
    "# Evaluate the classifier\n",
    "print(classification_report(df_test['label'], y_pred))\n",
    "print(\"Accuracy:\", accuracy_score(df_test['label'], y_pred))"
   ]
  },
  {
   "cell_type": "code",
   "execution_count": 45,
   "metadata": {},
   "outputs": [
    {
     "data": {
      "image/png": "[encoded data removed]",
      "text/plain": [
       "<Figure size 1000x800 with 2 Axes>"
      ]
     },
     "metadata": {},
     "output_type": "display_data"
    }
   ],
   "source": [
    "# Printing the Confusion Matrix\n",
    "from sklearn.metrics import confusion_matrix\n",
    "import seaborn as sns\n",
    "import matplotlib.pyplot as plt\n",
    "\n",
    "cm = confusion_matrix(df_test['label'], y_pred)\n",
    "plt.figure(figsize=(10, 8))\n",
    "sns.heatmap(cm, annot=True, fmt='d', cmap='Blues', xticklabels=ds['train'].features['label'].names, yticklabels=ds['train'].features['label'].names)\n",
    "plt.xlabel('Predicted')\n",
    "plt.ylabel('Actual')\n",
    "plt.title('Confusion Matrix')\n",
    "plt.show()"
   ]
  }
 ],
 "metadata": {
  "kernelspec": {
   "display_name": "Python 3",
   "language": "python",
   "name": "python3"
  },
  "language_info": {
   "codemirror_mode": {
    "name": "ipython",
    "version": 3
   },
   "file_extension": ".py",
   "mimetype": "text/x-python",
   "name": "python",
   "nbconvert_exporter": "python",
   "pygments_lexer": "ipython3",
   "version": "3.11.3"
  }
 },
 "nbformat": 4,
 "nbformat_minor": 2
}
